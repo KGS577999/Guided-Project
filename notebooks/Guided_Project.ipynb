{
 "cells": [
  {
   "cell_type": "markdown",
   "id": "e967f67e",
   "metadata": {},
   "source": [
    "#### **Project Details**\n",
    "\n",
    "**Guided Project**\n",
    "\n",
    "**Due Date:**  23/04/2025\n",
    "\n",
    "**Contributors:** \n",
    "* Kyle Gregory Smith (577999)\n",
    "* Caitlin Burnett (600330)\n",
    "* Paul-Dieter Brandt (600948)\n",
    "* Christoffel Martinus (577963)\n",
    "\n",
    "## Data-Driven Student Support at BrightPath Academy (TBD)\n",
    "\n",
    "### 1. Problem Statement\n",
    "BrightPath Academy is committed to providing a well-rounded education that nurtures both academic excellence and personal growth. However, the school faces several challenges that hinder its ability to fully support every student. Currently, **the absence of real-time insights** means that struggling students may go unnoticed until its too late, if no form of intervention is administered to help them. Additionally, educators **lack targeted support strategies**, making it difficult to personalize academic assistance such as tutoring or mentoring.\n",
    "\n",
    "While extracurricular activities are encouraged, **there is limited data** on their impact on academic performance, preventing educators from leveraging these programs to enhance student success. Moreover, the school collects vast amounts of student data, but **without a centralized, intuitive platform**, translating this information into actionable insights for student support remains a challenge.\n",
    "\n",
    "To address these issues, BrightPath Academy is working to implement a **data-driven system** that identifies at-risk students in real time, enables educators to personalize interventions based on student needs, and provides clear insights into the impact of extracurricular involvement. By doing so, the academy **aims to enhance student outcomes, streamline academic support, and foster a more effective learning environment** for all learners.\n",
    "\n",
    "### 2. Hypothesis\n",
    "\n",
    "\n",
    "### 3. Importing Libraries & Data"
   ]
  },
  {
   "cell_type": "code",
   "execution_count": null,
   "id": "e696d186",
   "metadata": {},
   "outputs": [],
   "source": [
    "#Import Libraries\n",
    "import pandas as pd\n",
    "import numpy as np\n",
    "import matplotlib.pyplot as plt\n",
    "import seaborn as sns\n",
    "import pickle\n",
    "import warnings\n",
    "\n",
    "from sklearn.model_selection import train_test_split\n",
    "from sklearn.linear_model import LogisticRegression\n",
    "from sklearn.metrics import mean_absolute_error, mean_squared_error\n",
    "\n",
    "#Import csv files\n",
    "df_original = pd.read_csv('../data/Student_performance_data.csv')               #.. goes up in the directory\n",
    "df_original_copy = df_original.copy()                                           #Use throughout "
   ]
  },
  {
   "cell_type": "markdown",
   "id": "2511f0cc",
   "metadata": {},
   "source": [
    "### 4. Understanding the data\n",
    "\n",
    "#### Data Attributes:"
   ]
  },
  {
   "cell_type": "code",
   "execution_count": null,
   "id": "03afd477",
   "metadata": {},
   "outputs": [],
   "source": []
  },
  {
   "cell_type": "markdown",
   "id": "37c28eff",
   "metadata": {},
   "source": [
    "#### Observations/Insights\n",
    "\n",
    "\n",
    "### Dataset Data Types:"
   ]
  },
  {
   "cell_type": "code",
   "execution_count": null,
   "id": "c1182b20",
   "metadata": {},
   "outputs": [],
   "source": []
  },
  {
   "cell_type": "markdown",
   "id": "37e5d739",
   "metadata": {},
   "source": [
    "#### Observations/Insights\n",
    "\n",
    "### Dataset Shape:"
   ]
  },
  {
   "cell_type": "code",
   "execution_count": null,
   "id": "d11485b0",
   "metadata": {},
   "outputs": [],
   "source": []
  },
  {
   "cell_type": "markdown",
   "id": "eb1772d2",
   "metadata": {},
   "source": [
    "#### Observations/Insights\n",
    "\n",
    "### 5. Exploring the Data\n",
    "\n",
    "#### A. Univariate Analysis:\n",
    "- Brief Overview of Univariate Analysis"
   ]
  },
  {
   "cell_type": "code",
   "execution_count": null,
   "id": "c3712a12",
   "metadata": {},
   "outputs": [],
   "source": []
  },
  {
   "cell_type": "markdown",
   "id": "e8a18391",
   "metadata": {},
   "source": [
    "#### B. Bi-variate Analysis:\n",
    "- Brief Overview of Bi-variate Analysis"
   ]
  },
  {
   "cell_type": "code",
   "execution_count": null,
   "id": "63ff1042",
   "metadata": {},
   "outputs": [],
   "source": []
  },
  {
   "cell_type": "markdown",
   "id": "4a463ec5",
   "metadata": {},
   "source": [
    "### 6. Missing Values and Outliers"
   ]
  },
  {
   "cell_type": "code",
   "execution_count": null,
   "id": "4db90a1d",
   "metadata": {},
   "outputs": [],
   "source": []
  },
  {
   "cell_type": "markdown",
   "id": "7b3ee84a",
   "metadata": {},
   "source": [
    "### 7. Feature Engineering"
   ]
  },
  {
   "cell_type": "code",
   "execution_count": null,
   "id": "53291468",
   "metadata": {},
   "outputs": [],
   "source": []
  },
  {
   "cell_type": "markdown",
   "id": "8799b547",
   "metadata": {},
   "source": [
    "### 8. First Model Development"
   ]
  },
  {
   "cell_type": "code",
   "execution_count": null,
   "id": "764c5232",
   "metadata": {},
   "outputs": [],
   "source": []
  },
  {
   "cell_type": "markdown",
   "id": "0182153e",
   "metadata": {},
   "source": [
    "#### Evaluate First Model Metrics"
   ]
  },
  {
   "cell_type": "markdown",
   "id": "b3241c04",
   "metadata": {},
   "source": [
    "### 9. Second Model Development"
   ]
  },
  {
   "cell_type": "code",
   "execution_count": null,
   "id": "e8900356",
   "metadata": {},
   "outputs": [],
   "source": []
  },
  {
   "cell_type": "markdown",
   "id": "709a6ff0",
   "metadata": {},
   "source": [
    "#### Evaluate Second Model Metrics"
   ]
  },
  {
   "cell_type": "markdown",
   "id": "b1d2c3ca",
   "metadata": {},
   "source": [
    "### 10. Comparison of Models"
   ]
  },
  {
   "cell_type": "markdown",
   "id": "f16fd9da",
   "metadata": {},
   "source": [
    "### 11. Web Application"
   ]
  },
  {
   "cell_type": "code",
   "execution_count": null,
   "id": "838a3ffa",
   "metadata": {},
   "outputs": [],
   "source": []
  }
 ],
 "metadata": {
  "kernelspec": {
   "display_name": "venv_projects",
   "language": "python",
   "name": "python3"
  },
  "language_info": {
   "codemirror_mode": {
    "name": "ipython",
    "version": 3
   },
   "file_extension": ".py",
   "mimetype": "text/x-python",
   "name": "python",
   "nbconvert_exporter": "python",
   "pygments_lexer": "ipython3",
   "version": "3.13.2"
  }
 },
 "nbformat": 4,
 "nbformat_minor": 5
}
